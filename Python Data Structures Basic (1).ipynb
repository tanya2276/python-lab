{
 "cells": [
  {
   "cell_type": "code",
   "execution_count": 17,
   "metadata": {},
   "outputs": [
    {
     "name": "stdout",
     "output_type": "stream",
     "text": [
      "hello\n",
      "artificial intelligence\n",
      "cial intelligence\n",
      "ci\n",
      "\n",
      "True\n",
      "ARTIFICIAL INTELLIGENCE\n",
      "artificial intelligenceartificial intelligenceartificial intelligenceartificial intelligenceartificial intelligence\n"
     ]
    }
   ],
   "source": [
    "print(\"hello\")\n",
    "p=\"artificial\"\n",
    "q=\"intelligence\"\n",
    "r=p+\" \"+q\n",
    "print(r)\n",
    "print(r[6:])\n",
    "print(r[6:8])\n",
    "print(r[-2:10])\n",
    "print(r.islower())\n",
    "print(r.upper())\n",
    "print(r*5)"
   ]
  },
  {
   "cell_type": "code",
   "execution_count": 18,
   "metadata": {},
   "outputs": [
    {
     "name": "stdout",
     "output_type": "stream",
     "text": [
      "58\n",
      "62\n",
      "30.0\n",
      "0\n",
      "120\n"
     ]
    }
   ],
   "source": [
    "a=60;\n",
    "b=2;\n",
    "c=3;\n",
    "print(a-b)\n",
    "print(a+b)\n",
    "print(a/b)\n",
    "print(a%b)\n",
    "print(a*b)"
   ]
  },
  {
   "cell_type": "code",
   "execution_count": 35,
   "metadata": {},
   "outputs": [
    {
     "name": "stdout",
     "output_type": "stream",
     "text": [
      "bb\n",
      "cc\n",
      "['bb', 'cc']\n",
      "3\n",
      "['aa', 'bb', 'cc', 'dd']\n",
      "['aa', 'ee', 'bb', 'cc', 'dd']\n",
      "['aa', 'bb', 'cc', 'dd']\n",
      "[]\n",
      "['11', '22', '33', 'ab']\n"
     ]
    }
   ],
   "source": [
    "lt = [\"aa\", \"bb\", \"cc\"]\n",
    "print(lt[1])\n",
    "print(lt[-1])\n",
    "print(lt[1:])\n",
    "print(len(lt))\n",
    "lt.append(\"dd\")\n",
    "print(lt)\n",
    "lt.insert(1,\"ee\")\n",
    "print(lt)\n",
    "lt.remove(\"ee\")\n",
    "print(lt)\n",
    "lt.pop()\n",
    "lt.clear()\n",
    "print(lt)\n",
    "l1=[\"11\",\"22\",\"33\"]\n",
    "l2=[\"ab\"]\n",
    "l3=l1+l2\n",
    "print(l3)"
   ]
  },
  {
   "cell_type": "code",
   "execution_count": 36,
   "metadata": {},
   "outputs": [
    {
     "name": "stdout",
     "output_type": "stream",
     "text": [
      "{'3', '1', '2', '5'}\n",
      "{'6', '7', '4', '5'}\n",
      "{'3', '1', '99', '2', '5'}\n",
      "{'3', '7', '1', '6', '99', '4', '2', '5'}\n",
      "{'5'}\n",
      "{'99', '3', '2', '1'}\n",
      "set()\n"
     ]
    }
   ],
   "source": [
    "s1 = set(['1','2','3','5'])\n",
    "s2 = set(['4','5','6','7'])\n",
    "print(s1)\n",
    "print(s2)\n",
    "s1.add('99')\n",
    "print(s1)\n",
    "s3 = s1.union(s2)\n",
    "s4 = s1.intersection(s2)\n",
    "print(s3)\n",
    "print(s4)\n",
    "diff = s1-s2\n",
    "print(diff)\n",
    "s3.clear()\n",
    "print(s3)\n"
   ]
  },
  {
   "cell_type": "code",
   "execution_count": 37,
   "metadata": {},
   "outputs": [
    {
     "name": "stdout",
     "output_type": "stream",
     "text": [
      "{'name': 'unknown', 'age': 44, '55': '66'}\n",
      "dict_items([('name', 'unknown'), ('age', 44), ('55', '66')])\n",
      "dict_keys(['name', 'age', '55'])\n",
      "dict_values(['unknown', 44, '66'])\n",
      "44\n",
      "unknown\n",
      "{'name': 'unknown', 'age': 44}\n",
      "{'car': {'type': {'capacity': 4, 'class': 'LMV'}}}\n"
     ]
    }
   ],
   "source": [
    "a={'name':'unknown','age':44,'55':'66' }\n",
    "print(a)\n",
    "print(a.items())\n",
    "print(a.keys())\n",
    "print(a.values())\n",
    "print(a.get('age'))\n",
    "print(a[\"name\"])\n",
    "a.pop('55')\n",
    "print(a)\n",
    "veh={'car': {'type':{'capacity':4, 'class':'LMV'}}}\n",
    "print(veh)"
   ]
  },
  {
   "cell_type": "code",
   "execution_count": null,
   "metadata": {},
   "outputs": [],
   "source": []
  }
 ],
 "metadata": {
  "kernelspec": {
   "display_name": "Python 3",
   "language": "python",
   "name": "python3"
  },
  "language_info": {
   "codemirror_mode": {
    "name": "ipython",
    "version": 3
   },
   "file_extension": ".py",
   "mimetype": "text/x-python",
   "name": "python",
   "nbconvert_exporter": "python",
   "pygments_lexer": "ipython3",
   "version": "3.7.0"
  }
 },
 "nbformat": 4,
 "nbformat_minor": 2
}
